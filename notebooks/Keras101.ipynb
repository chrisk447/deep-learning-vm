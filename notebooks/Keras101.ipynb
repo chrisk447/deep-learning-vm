{
 "cells": [
  {
   "cell_type": "markdown",
   "metadata": {},
   "source": [
    "This the tutorial that can be found at http://machinelearningmastery.com/tutorial-first-neural-network-python-keras/.\n",
    "I thought it more practical to have a realistic dataset, than the more common *handwritten digits* or *cats & dogs* datasets.\n",
    "\n",
    "The objective is to build a basic model to predict whether or not the patients will have diabetes over the next 5 years.\n",
    "The required dataset has been downloaded to the `datasets/uci` folder during VM setup.\n",
    "\n",
    "Both `TensorFlow` and `Theano` are installed. This notebook uses `Theano`."
   ]
  },
  {
   "cell_type": "code",
   "execution_count": 1,
   "metadata": {
    "collapsed": false
   },
   "outputs": [
    {
     "name": "stderr",
     "output_type": "stream",
     "text": [
      "Using TensorFlow backend.\n"
     ]
    }
   ],
   "source": [
    "import numpy as np\n",
    "from keras.models import Sequential\n",
    "from keras.layers import Dense\n",
    "\n",
    "seed = 7\n",
    "np.random.seed(seed)"
   ]
  },
  {
   "cell_type": "code",
   "execution_count": 29,
   "metadata": {
    "collapsed": true
   },
   "outputs": [],
   "source": [
    "# Load the dataset. The 9th column is the target\n",
    "dataset = numpy.loadtxt(\"../datasets/uci/pima-indians-diabetes.csv\", delimiter=\",\")\n",
    "X = dataset[:,0:8]\n",
    "Y = dataset[:,8]"
   ]
  },
  {
   "cell_type": "code",
   "execution_count": 30,
   "metadata": {
    "collapsed": false
   },
   "outputs": [
    {
     "name": "stderr",
     "output_type": "stream",
     "text": [
      "/home/vagrant/anaconda/lib/python3.5/site-packages/ipykernel/__main__.py:4: UserWarning: Update your `Dense` call to the Keras 2 API: `Dense(12, input_dim=8, activation=\"relu\", kernel_initializer=\"uniform\")`\n",
      "/home/vagrant/anaconda/lib/python3.5/site-packages/ipykernel/__main__.py:5: UserWarning: Update your `Dense` call to the Keras 2 API: `Dense(8, activation=\"relu\", kernel_initializer=\"uniform\")`\n",
      "/home/vagrant/anaconda/lib/python3.5/site-packages/ipykernel/__main__.py:6: UserWarning: Update your `Dense` call to the Keras 2 API: `Dense(1, activation=\"sigmoid\", kernel_initializer=\"uniform\")`\n"
     ]
    }
   ],
   "source": [
    "# Create the model\n",
    "# Please refer to the above mentioned URL for explanations.\n",
    "model = Sequential()\n",
    "model.add(Dense(12, input_dim=8, init='uniform', activation='relu'))\n",
    "model.add(Dense(8, init='uniform', activation='relu'))\n",
    "model.add(Dense(1, init='uniform', activation='sigmoid'))"
   ]
  },
  {
   "cell_type": "code",
   "execution_count": 31,
   "metadata": {
    "collapsed": true
   },
   "outputs": [],
   "source": [
    "# Compile the model\n",
    "model.compile(loss='binary_crossentropy', optimizer='adam', metrics=['accuracy'])"
   ]
  },
  {
   "cell_type": "code",
   "execution_count": 32,
   "metadata": {
    "collapsed": false
   },
   "outputs": [
    {
     "name": "stdout",
     "output_type": "stream",
     "text": [
      "Epoch 1/200\n",
      "768/768 [==============================] - 0s - loss: 0.6771 - acc: 0.6510     \n",
      "Epoch 2/200\n",
      "768/768 [==============================] - 0s - loss: 0.6598 - acc: 0.6510     \n",
      "Epoch 3/200\n",
      "768/768 [==============================] - 0s - loss: 0.6484 - acc: 0.6510     \n",
      "Epoch 4/200\n",
      "768/768 [==============================] - 0s - loss: 0.6402 - acc: 0.6510     \n",
      "Epoch 5/200\n",
      "768/768 [==============================] - 0s - loss: 0.6328 - acc: 0.6510     \n",
      "Epoch 6/200\n",
      "768/768 [==============================] - 0s - loss: 0.6196 - acc: 0.6510     \n",
      "Epoch 7/200\n",
      "768/768 [==============================] - 0s - loss: 0.6192 - acc: 0.6510     \n",
      "Epoch 8/200\n",
      "768/768 [==============================] - 0s - loss: 0.6144 - acc: 0.6510     \n",
      "Epoch 9/200\n",
      "768/768 [==============================] - 0s - loss: 0.6092 - acc: 0.6510     \n",
      "Epoch 10/200\n",
      "768/768 [==============================] - 0s - loss: 0.6161 - acc: 0.6510     \n",
      "Epoch 11/200\n",
      "768/768 [==============================] - 0s - loss: 0.6057 - acc: 0.6510     \n",
      "Epoch 12/200\n",
      "768/768 [==============================] - 0s - loss: 0.6034 - acc: 0.6510     \n",
      "Epoch 13/200\n",
      "768/768 [==============================] - 0s - loss: 0.5993 - acc: 0.6510     \n",
      "Epoch 14/200\n",
      "768/768 [==============================] - 0s - loss: 0.6028 - acc: 0.6510     \n",
      "Epoch 15/200\n",
      "768/768 [==============================] - 0s - loss: 0.6002 - acc: 0.6510     \n",
      "Epoch 16/200\n",
      "768/768 [==============================] - 0s - loss: 0.6021 - acc: 0.6510     \n",
      "Epoch 17/200\n",
      "768/768 [==============================] - 0s - loss: 0.5994 - acc: 0.6510     \n",
      "Epoch 18/200\n",
      "768/768 [==============================] - 0s - loss: 0.6048 - acc: 0.6510     \n",
      "Epoch 19/200\n",
      "768/768 [==============================] - 0s - loss: 0.5991 - acc: 0.6510     \n",
      "Epoch 20/200\n",
      "768/768 [==============================] - 0s - loss: 0.5972 - acc: 0.6510     \n",
      "Epoch 21/200\n",
      "768/768 [==============================] - 0s - loss: 0.5957 - acc: 0.6510     \n",
      "Epoch 22/200\n",
      "768/768 [==============================] - 0s - loss: 0.5946 - acc: 0.6510     \n",
      "Epoch 23/200\n",
      "768/768 [==============================] - 0s - loss: 0.5936 - acc: 0.6510     \n",
      "Epoch 24/200\n",
      "768/768 [==============================] - 0s - loss: 0.5992 - acc: 0.6510     \n",
      "Epoch 25/200\n",
      "768/768 [==============================] - 0s - loss: 0.5938 - acc: 0.6510     \n",
      "Epoch 26/200\n",
      "768/768 [==============================] - 0s - loss: 0.5973 - acc: 0.6510     \n",
      "Epoch 27/200\n",
      "768/768 [==============================] - 0s - loss: 0.5955 - acc: 0.6510     \n",
      "Epoch 28/200\n",
      "768/768 [==============================] - 0s - loss: 0.5900 - acc: 0.6510     \n",
      "Epoch 29/200\n",
      "768/768 [==============================] - 0s - loss: 0.5940 - acc: 0.6510     \n",
      "Epoch 30/200\n",
      "768/768 [==============================] - 0s - loss: 0.5907 - acc: 0.6510     \n",
      "Epoch 31/200\n",
      "768/768 [==============================] - 0s - loss: 0.5913 - acc: 0.6510     \n",
      "Epoch 32/200\n",
      "768/768 [==============================] - 0s - loss: 0.5901 - acc: 0.6510     \n",
      "Epoch 33/200\n",
      "768/768 [==============================] - 0s - loss: 0.5853 - acc: 0.6510     \n",
      "Epoch 34/200\n",
      "768/768 [==============================] - 0s - loss: 0.5902 - acc: 0.6510     \n",
      "Epoch 35/200\n",
      "768/768 [==============================] - 0s - loss: 0.5903 - acc: 0.6510     \n",
      "Epoch 36/200\n",
      "768/768 [==============================] - 0s - loss: 0.5842 - acc: 0.6510     \n",
      "Epoch 37/200\n",
      "768/768 [==============================] - 0s - loss: 0.5812 - acc: 0.6510     \n",
      "Epoch 38/200\n",
      "768/768 [==============================] - 0s - loss: 0.5920 - acc: 0.6510     \n",
      "Epoch 39/200\n",
      "768/768 [==============================] - 0s - loss: 0.5840 - acc: 0.6719     \n",
      "Epoch 40/200\n",
      "768/768 [==============================] - 0s - loss: 0.5845 - acc: 0.7083     \n",
      "Epoch 41/200\n",
      "768/768 [==============================] - 0s - loss: 0.5828 - acc: 0.6953     \n",
      "Epoch 42/200\n",
      "768/768 [==============================] - 0s - loss: 0.5827 - acc: 0.6966     \n",
      "Epoch 43/200\n",
      "768/768 [==============================] - 0s - loss: 0.5800 - acc: 0.7122     \n",
      "Epoch 44/200\n",
      "768/768 [==============================] - 0s - loss: 0.5846 - acc: 0.7135     \n",
      "Epoch 45/200\n",
      "768/768 [==============================] - 0s - loss: 0.5800 - acc: 0.7109     \n",
      "Epoch 46/200\n",
      "768/768 [==============================] - 0s - loss: 0.5774 - acc: 0.7031     \n",
      "Epoch 47/200\n",
      "768/768 [==============================] - 0s - loss: 0.5792 - acc: 0.7148     \n",
      "Epoch 48/200\n",
      "768/768 [==============================] - 0s - loss: 0.5779 - acc: 0.6953     \n",
      "Epoch 49/200\n",
      "768/768 [==============================] - 0s - loss: 0.5748 - acc: 0.7096     \n",
      "Epoch 50/200\n",
      "768/768 [==============================] - 0s - loss: 0.5764 - acc: 0.7096     \n",
      "Epoch 51/200\n",
      "768/768 [==============================] - 0s - loss: 0.5738 - acc: 0.7135     \n",
      "Epoch 52/200\n",
      "768/768 [==============================] - 0s - loss: 0.5733 - acc: 0.7148     \n",
      "Epoch 53/200\n",
      "768/768 [==============================] - 0s - loss: 0.5753 - acc: 0.7044     \n",
      "Epoch 54/200\n",
      "768/768 [==============================] - 0s - loss: 0.5749 - acc: 0.7070     \n",
      "Epoch 55/200\n",
      "768/768 [==============================] - 0s - loss: 0.5740 - acc: 0.7057     \n",
      "Epoch 56/200\n",
      "768/768 [==============================] - 0s - loss: 0.5758 - acc: 0.7096     \n",
      "Epoch 57/200\n",
      "768/768 [==============================] - 0s - loss: 0.5712 - acc: 0.6992     \n",
      "Epoch 58/200\n",
      "768/768 [==============================] - 0s - loss: 0.5735 - acc: 0.7096     \n",
      "Epoch 59/200\n",
      "768/768 [==============================] - 0s - loss: 0.5715 - acc: 0.7031     \n",
      "Epoch 60/200\n",
      "768/768 [==============================] - 0s - loss: 0.5723 - acc: 0.7005     \n",
      "Epoch 61/200\n",
      "768/768 [==============================] - 0s - loss: 0.5685 - acc: 0.7096     \n",
      "Epoch 62/200\n",
      "768/768 [==============================] - 0s - loss: 0.5696 - acc: 0.7214     \n",
      "Epoch 63/200\n",
      "768/768 [==============================] - 0s - loss: 0.5704 - acc: 0.7044     \n",
      "Epoch 64/200\n",
      "768/768 [==============================] - 0s - loss: 0.5707 - acc: 0.7083     \n",
      "Epoch 65/200\n",
      "768/768 [==============================] - 0s - loss: 0.5648 - acc: 0.7148     \n",
      "Epoch 66/200\n",
      "768/768 [==============================] - 0s - loss: 0.5639 - acc: 0.7161     \n",
      "Epoch 67/200\n",
      "768/768 [==============================] - 0s - loss: 0.5652 - acc: 0.7161     \n",
      "Epoch 68/200\n",
      "768/768 [==============================] - 0s - loss: 0.5625 - acc: 0.7057     \n",
      "Epoch 69/200\n",
      "768/768 [==============================] - 0s - loss: 0.5623 - acc: 0.7214     \n",
      "Epoch 70/200\n",
      "768/768 [==============================] - 0s - loss: 0.5659 - acc: 0.7135     \n",
      "Epoch 71/200\n",
      "768/768 [==============================] - 0s - loss: 0.5614 - acc: 0.7070     \n",
      "Epoch 72/200\n",
      "768/768 [==============================] - 0s - loss: 0.5595 - acc: 0.7044     \n",
      "Epoch 73/200\n",
      "768/768 [==============================] - 0s - loss: 0.5565 - acc: 0.7148     \n",
      "Epoch 74/200\n",
      "768/768 [==============================] - 0s - loss: 0.5611 - acc: 0.6940     \n",
      "Epoch 75/200\n",
      "768/768 [==============================] - 0s - loss: 0.5578 - acc: 0.7240     \n",
      "Epoch 76/200\n",
      "768/768 [==============================] - 0s - loss: 0.5552 - acc: 0.7135     \n",
      "Epoch 77/200\n",
      "768/768 [==============================] - 0s - loss: 0.5554 - acc: 0.7161     \n",
      "Epoch 78/200\n",
      "768/768 [==============================] - 0s - loss: 0.5512 - acc: 0.7188     \n",
      "Epoch 79/200\n",
      "768/768 [==============================] - 0s - loss: 0.5579 - acc: 0.7240     \n",
      "Epoch 80/200\n",
      "768/768 [==============================] - 0s - loss: 0.5518 - acc: 0.7201     \n",
      "Epoch 81/200\n",
      "768/768 [==============================] - 0s - loss: 0.5473 - acc: 0.7266     \n",
      "Epoch 82/200\n",
      "768/768 [==============================] - 0s - loss: 0.5551 - acc: 0.7187     \n",
      "Epoch 83/200\n",
      "768/768 [==============================] - 0s - loss: 0.5531 - acc: 0.7201     \n",
      "Epoch 84/200\n",
      "768/768 [==============================] - 0s - loss: 0.5455 - acc: 0.7279     \n",
      "Epoch 85/200\n",
      "768/768 [==============================] - 0s - loss: 0.5493 - acc: 0.7122     \n",
      "Epoch 86/200\n",
      "768/768 [==============================] - 0s - loss: 0.5522 - acc: 0.7201     \n",
      "Epoch 87/200\n",
      "768/768 [==============================] - 0s - loss: 0.5439 - acc: 0.7305     \n",
      "Epoch 88/200\n",
      "768/768 [==============================] - 0s - loss: 0.5433 - acc: 0.7266     \n",
      "Epoch 89/200\n",
      "768/768 [==============================] - 0s - loss: 0.5556 - acc: 0.7253     \n",
      "Epoch 90/200\n",
      "768/768 [==============================] - 0s - loss: 0.5450 - acc: 0.7240     \n",
      "Epoch 91/200\n",
      "768/768 [==============================] - 0s - loss: 0.5416 - acc: 0.7253     \n",
      "Epoch 92/200\n",
      "768/768 [==============================] - 0s - loss: 0.5432 - acc: 0.7253     \n",
      "Epoch 93/200\n",
      "768/768 [==============================] - 0s - loss: 0.5378 - acc: 0.7214     \n",
      "Epoch 94/200\n",
      "768/768 [==============================] - 0s - loss: 0.5414 - acc: 0.7318     \n",
      "Epoch 95/200\n",
      "768/768 [==============================] - 0s - loss: 0.5392 - acc: 0.7227     \n",
      "Epoch 96/200\n",
      "768/768 [==============================] - 0s - loss: 0.5412 - acc: 0.7435     \n",
      "Epoch 97/200\n",
      "768/768 [==============================] - 0s - loss: 0.5414 - acc: 0.7279     \n",
      "Epoch 98/200\n",
      "768/768 [==============================] - 0s - loss: 0.5384 - acc: 0.7357     \n",
      "Epoch 99/200\n",
      "768/768 [==============================] - 0s - loss: 0.5295 - acc: 0.7435     \n",
      "Epoch 100/200\n",
      "768/768 [==============================] - 0s - loss: 0.5393 - acc: 0.7188     \n",
      "Epoch 101/200\n",
      "768/768 [==============================] - 0s - loss: 0.5364 - acc: 0.7370     \n",
      "Epoch 102/200\n",
      "768/768 [==============================] - 0s - loss: 0.5386 - acc: 0.7318     \n",
      "Epoch 103/200\n",
      "768/768 [==============================] - 0s - loss: 0.5436 - acc: 0.7318     \n",
      "Epoch 104/200\n",
      "768/768 [==============================] - 0s - loss: 0.5427 - acc: 0.7292     \n",
      "Epoch 105/200\n",
      "768/768 [==============================] - 0s - loss: 0.5323 - acc: 0.7279     \n",
      "Epoch 106/200\n",
      "768/768 [==============================] - 0s - loss: 0.5353 - acc: 0.7240     \n",
      "Epoch 107/200\n",
      "768/768 [==============================] - 0s - loss: 0.5344 - acc: 0.7422     \n",
      "Epoch 108/200\n",
      "768/768 [==============================] - 0s - loss: 0.5332 - acc: 0.7331     \n",
      "Epoch 109/200\n",
      "768/768 [==============================] - 0s - loss: 0.5348 - acc: 0.7357     \n",
      "Epoch 110/200\n",
      "768/768 [==============================] - 0s - loss: 0.5299 - acc: 0.7344     \n",
      "Epoch 111/200\n",
      "768/768 [==============================] - 0s - loss: 0.5319 - acc: 0.7344     \n",
      "Epoch 112/200\n",
      "768/768 [==============================] - 0s - loss: 0.5278 - acc: 0.7331     \n",
      "Epoch 113/200\n",
      "768/768 [==============================] - 0s - loss: 0.5298 - acc: 0.7331     \n",
      "Epoch 114/200\n",
      "768/768 [==============================] - 0s - loss: 0.5291 - acc: 0.7409     \n",
      "Epoch 115/200\n",
      "768/768 [==============================] - 0s - loss: 0.5271 - acc: 0.7227     \n",
      "Epoch 116/200\n",
      "768/768 [==============================] - 0s - loss: 0.5274 - acc: 0.7396     \n",
      "Epoch 117/200\n",
      "768/768 [==============================] - 0s - loss: 0.5248 - acc: 0.7422     \n",
      "Epoch 118/200\n",
      "768/768 [==============================] - 0s - loss: 0.5269 - acc: 0.7409     \n",
      "Epoch 119/200\n",
      "768/768 [==============================] - 0s - loss: 0.5232 - acc: 0.7474     \n",
      "Epoch 120/200\n",
      "768/768 [==============================] - 0s - loss: 0.5198 - acc: 0.7474     \n",
      "Epoch 121/200\n",
      "768/768 [==============================] - 0s - loss: 0.5272 - acc: 0.7422     \n",
      "Epoch 122/200\n",
      "768/768 [==============================] - 0s - loss: 0.5250 - acc: 0.7383     \n",
      "Epoch 123/200\n",
      "768/768 [==============================] - 0s - loss: 0.5176 - acc: 0.7357     \n",
      "Epoch 124/200\n",
      "768/768 [==============================] - 0s - loss: 0.5125 - acc: 0.7565     \n",
      "Epoch 125/200\n",
      "768/768 [==============================] - 0s - loss: 0.5148 - acc: 0.7409     \n",
      "Epoch 126/200\n",
      "768/768 [==============================] - 0s - loss: 0.5106 - acc: 0.7396     \n",
      "Epoch 127/200\n",
      "768/768 [==============================] - 0s - loss: 0.5108 - acc: 0.7526     \n",
      "Epoch 128/200\n",
      "768/768 [==============================] - 0s - loss: 0.5042 - acc: 0.7487     \n",
      "Epoch 129/200\n",
      "768/768 [==============================] - 0s - loss: 0.5091 - acc: 0.7539     \n",
      "Epoch 130/200\n",
      "768/768 [==============================] - 0s - loss: 0.5003 - acc: 0.7565     \n",
      "Epoch 131/200\n",
      "768/768 [==============================] - 0s - loss: 0.4961 - acc: 0.7448     \n",
      "Epoch 132/200\n",
      "768/768 [==============================] - 0s - loss: 0.4938 - acc: 0.7487     \n",
      "Epoch 133/200\n",
      "768/768 [==============================] - 0s - loss: 0.4965 - acc: 0.7461     \n",
      "Epoch 134/200\n",
      "768/768 [==============================] - 0s - loss: 0.4923 - acc: 0.7513     \n",
      "Epoch 135/200\n",
      "768/768 [==============================] - 0s - loss: 0.4934 - acc: 0.7591     \n",
      "Epoch 136/200\n",
      "768/768 [==============================] - 0s - loss: 0.4834 - acc: 0.7539     \n",
      "Epoch 137/200\n",
      "768/768 [==============================] - 0s - loss: 0.4893 - acc: 0.7695     \n",
      "Epoch 138/200\n",
      "768/768 [==============================] - 0s - loss: 0.4844 - acc: 0.7630     \n",
      "Epoch 139/200\n",
      "768/768 [==============================] - 0s - loss: 0.4706 - acc: 0.7747     \n",
      "Epoch 140/200\n",
      "768/768 [==============================] - 0s - loss: 0.4785 - acc: 0.7695     \n",
      "Epoch 141/200\n",
      "768/768 [==============================] - 0s - loss: 0.4728 - acc: 0.7643     \n",
      "Epoch 142/200\n",
      "768/768 [==============================] - 0s - loss: 0.4790 - acc: 0.7578     \n",
      "Epoch 143/200\n",
      "768/768 [==============================] - 0s - loss: 0.4769 - acc: 0.7695     \n",
      "Epoch 144/200\n",
      "768/768 [==============================] - 0s - loss: 0.4756 - acc: 0.7734     \n",
      "Epoch 145/200\n",
      "768/768 [==============================] - 0s - loss: 0.4744 - acc: 0.7669     \n",
      "Epoch 146/200\n",
      "768/768 [==============================] - 0s - loss: 0.4726 - acc: 0.7695     \n",
      "Epoch 147/200\n",
      "768/768 [==============================] - 0s - loss: 0.4715 - acc: 0.7604     \n",
      "Epoch 148/200\n",
      "768/768 [==============================] - 0s - loss: 0.4680 - acc: 0.7826     \n",
      "Epoch 149/200\n",
      "768/768 [==============================] - 0s - loss: 0.4676 - acc: 0.7721     \n",
      "Epoch 150/200\n",
      "768/768 [==============================] - 0s - loss: 0.4608 - acc: 0.7604     \n",
      "Epoch 151/200\n",
      "768/768 [==============================] - 0s - loss: 0.4661 - acc: 0.7799     \n",
      "Epoch 152/200\n",
      "768/768 [==============================] - 0s - loss: 0.4625 - acc: 0.7839     \n",
      "Epoch 153/200\n",
      "768/768 [==============================] - 0s - loss: 0.4677 - acc: 0.7773     \n",
      "Epoch 154/200\n",
      "768/768 [==============================] - 0s - loss: 0.4608 - acc: 0.7760     \n",
      "Epoch 155/200\n",
      "768/768 [==============================] - 0s - loss: 0.4696 - acc: 0.7682     \n",
      "Epoch 156/200\n",
      "768/768 [==============================] - 0s - loss: 0.4572 - acc: 0.7747     \n",
      "Epoch 157/200\n",
      "768/768 [==============================] - 0s - loss: 0.4628 - acc: 0.7760     \n",
      "Epoch 158/200\n",
      "768/768 [==============================] - 0s - loss: 0.4598 - acc: 0.7747     \n",
      "Epoch 159/200\n",
      "768/768 [==============================] - 0s - loss: 0.4573 - acc: 0.7734     \n",
      "Epoch 160/200\n",
      "768/768 [==============================] - 0s - loss: 0.4524 - acc: 0.7865     \n",
      "Epoch 161/200\n",
      "768/768 [==============================] - 0s - loss: 0.4517 - acc: 0.7721     \n",
      "Epoch 162/200\n",
      "768/768 [==============================] - 0s - loss: 0.4521 - acc: 0.7904     \n",
      "Epoch 163/200\n",
      "768/768 [==============================] - 0s - loss: 0.4547 - acc: 0.7786     \n",
      "Epoch 164/200\n",
      "768/768 [==============================] - 0s - loss: 0.4552 - acc: 0.7812     \n",
      "Epoch 165/200\n",
      "768/768 [==============================] - 0s - loss: 0.4545 - acc: 0.7747     \n",
      "Epoch 166/200\n",
      "768/768 [==============================] - 0s - loss: 0.4421 - acc: 0.7969     \n",
      "Epoch 167/200\n",
      "768/768 [==============================] - 0s - loss: 0.4482 - acc: 0.7891     \n",
      "Epoch 168/200\n",
      "768/768 [==============================] - 0s - loss: 0.4448 - acc: 0.7839     \n",
      "Epoch 169/200\n",
      "768/768 [==============================] - 0s - loss: 0.4469 - acc: 0.7891     \n",
      "Epoch 170/200\n",
      "768/768 [==============================] - 0s - loss: 0.4491 - acc: 0.7865     \n",
      "Epoch 171/200\n",
      "768/768 [==============================] - 0s - loss: 0.4452 - acc: 0.7865     \n",
      "Epoch 172/200\n",
      "768/768 [==============================] - 0s - loss: 0.4410 - acc: 0.7982     \n",
      "Epoch 173/200\n",
      "768/768 [==============================] - 0s - loss: 0.4448 - acc: 0.7956     \n",
      "Epoch 174/200\n",
      "768/768 [==============================] - 0s - loss: 0.4474 - acc: 0.7852     \n",
      "Epoch 175/200\n",
      "768/768 [==============================] - 0s - loss: 0.4456 - acc: 0.7734     \n",
      "Epoch 176/200\n",
      "768/768 [==============================] - 0s - loss: 0.4403 - acc: 0.7956     \n",
      "Epoch 177/200\n",
      "768/768 [==============================] - 0s - loss: 0.4513 - acc: 0.7878     \n",
      "Epoch 178/200\n",
      "768/768 [==============================] - 0s - loss: 0.4426 - acc: 0.7982     \n",
      "Epoch 179/200\n",
      "768/768 [==============================] - 0s - loss: 0.4354 - acc: 0.8008     \n",
      "Epoch 180/200\n",
      "768/768 [==============================] - 0s - loss: 0.4374 - acc: 0.7956     \n",
      "Epoch 181/200\n",
      "768/768 [==============================] - 0s - loss: 0.4409 - acc: 0.7904     \n",
      "Epoch 182/200\n",
      "768/768 [==============================] - 0s - loss: 0.4400 - acc: 0.7852     \n",
      "Epoch 183/200\n",
      "768/768 [==============================] - 0s - loss: 0.4525 - acc: 0.7891     \n",
      "Epoch 184/200\n",
      "768/768 [==============================] - 0s - loss: 0.4477 - acc: 0.7891     \n",
      "Epoch 185/200\n",
      "768/768 [==============================] - 0s - loss: 0.4419 - acc: 0.8008     \n",
      "Epoch 186/200\n",
      "768/768 [==============================] - 0s - loss: 0.4436 - acc: 0.7878     \n",
      "Epoch 187/200\n",
      "768/768 [==============================] - 0s - loss: 0.4441 - acc: 0.7943     \n",
      "Epoch 188/200\n",
      "768/768 [==============================] - 0s - loss: 0.4451 - acc: 0.7786     \n",
      "Epoch 189/200\n",
      "768/768 [==============================] - 0s - loss: 0.4418 - acc: 0.7904     \n",
      "Epoch 190/200\n",
      "768/768 [==============================] - 0s - loss: 0.4440 - acc: 0.7891     \n",
      "Epoch 191/200\n",
      "768/768 [==============================] - 0s - loss: 0.4321 - acc: 0.7943     \n",
      "Epoch 192/200\n",
      "768/768 [==============================] - 0s - loss: 0.4445 - acc: 0.7891     \n",
      "Epoch 193/200\n",
      "768/768 [==============================] - 0s - loss: 0.4425 - acc: 0.7878     \n",
      "Epoch 194/200\n",
      "768/768 [==============================] - 0s - loss: 0.4387 - acc: 0.7930     \n",
      "Epoch 195/200\n",
      "768/768 [==============================] - 0s - loss: 0.4470 - acc: 0.7826     \n",
      "Epoch 196/200\n",
      "768/768 [==============================] - 0s - loss: 0.4351 - acc: 0.7839     \n",
      "Epoch 197/200\n",
      "768/768 [==============================] - 0s - loss: 0.4381 - acc: 0.7760     \n",
      "Epoch 198/200\n",
      "768/768 [==============================] - 0s - loss: 0.4404 - acc: 0.7891     \n",
      "Epoch 199/200\n",
      "768/768 [==============================] - 0s - loss: 0.4450 - acc: 0.7891     \n",
      "Epoch 200/200\n",
      "768/768 [==============================] - 0s - loss: 0.4403 - acc: 0.7826     \n"
     ]
    },
    {
     "data": {
      "text/plain": [
       "<keras.callbacks.History at 0x7fb299822e80>"
      ]
     },
     "execution_count": 32,
     "metadata": {},
     "output_type": "execute_result"
    }
   ],
   "source": [
    "# Fit the model\n",
    "model.fit(X, Y, epochs=200, batch_size=10)"
   ]
  },
  {
   "cell_type": "code",
   "execution_count": 47,
   "metadata": {
    "collapsed": false
   },
   "outputs": [
    {
     "name": "stdout",
     "output_type": "stream",
     "text": [
      " 32/768 [>.............................] - ETA: 0sacc: 79.427%\n"
     ]
    }
   ],
   "source": [
    "# Evaluate the model\n",
    "scores = model.evaluate(X, Y)\n",
    "print(\"%s: %.3f%%\" % (model.metrics_names[1], scores[1]*100))"
   ]
  },
  {
   "cell_type": "markdown",
   "metadata": {},
   "source": [
    "## Part 2 - Using Pickle and Shoe dataset\n",
    "\n",
    "Information adapted from [source](https://doyleax.github.io/Portfolio/capstone.html)\n",
    "\n",
    "---"
   ]
  },
  {
   "cell_type": "code",
   "execution_count": 1,
   "metadata": {
    "collapsed": false
   },
   "outputs": [
    {
     "name": "stderr",
     "output_type": "stream",
     "text": [
      "Using TensorFlow backend.\n"
     ]
    }
   ],
   "source": [
    "from keras.preprocessing.image import ImageDataGenerator\n",
    "import numpy as np\n",
    "import pickle\n",
    "import matplotlib.pyplot as plt\n",
    "np.random.seed(7)\n",
    "\n",
    "%matplotlib inline"
   ]
  },
  {
   "cell_type": "code",
   "execution_count": 2,
   "metadata": {
    "collapsed": false
   },
   "outputs": [],
   "source": [
    "with open('shoenumbers.pickle', 'rb') as handle:\n",
    "    X = pickle.load(handle, encoding='bytes')\n",
    "with open('targetvars.pickle', 'rb') as handle:\n",
    "    y = pickle.load(handle, encoding='bytes')"
   ]
  },
  {
   "cell_type": "code",
   "execution_count": 3,
   "metadata": {
    "collapsed": false
   },
   "outputs": [
    {
     "name": "stdout",
     "output_type": "stream",
     "text": [
      "(1780, 200, 280, 3)\n",
      "(1780,)\n"
     ]
    }
   ],
   "source": [
    "print(np.array(X).shape)\n",
    "print(np.array(y).shape)"
   ]
  },
  {
   "cell_type": "code",
   "execution_count": 4,
   "metadata": {
    "collapsed": false
   },
   "outputs": [
    {
     "name": "stdout",
     "output_type": "stream",
     "text": [
      "0.502247191011\n"
     ]
    }
   ],
   "source": [
    "baseline = y.mean()\n",
    "print(baseline)"
   ]
  },
  {
   "cell_type": "code",
   "execution_count": 5,
   "metadata": {
    "collapsed": false
   },
   "outputs": [
    {
     "data": {
      "text/plain": [
       "(1780, 100, 140, 3)"
      ]
     },
     "execution_count": 5,
     "metadata": {},
     "output_type": "execute_result"
    }
   ],
   "source": [
    "# Change size of images so it's not so huge when we pass it through keras\n",
    "import cv2\n",
    "new_X = []\n",
    "for row in range(len(X)):\n",
    "    new_X.append(cv2.resize(X[row], (140,100)))\n",
    "np.array(new_X).shape"
   ]
  },
  {
   "cell_type": "code",
   "execution_count": 6,
   "metadata": {
    "collapsed": false
   },
   "outputs": [],
   "source": [
    "# Prepare data for training and testing\n",
    "X = np.array(new_X)\n",
    "X = X.astype('float32')\n",
    "X /= 255.0\n",
    "y = np.array(y)"
   ]
  },
  {
   "cell_type": "code",
   "execution_count": 7,
   "metadata": {
    "collapsed": true
   },
   "outputs": [],
   "source": [
    "from sklearn.model_selection import train_test_split\n",
    "X_train, X_test, y_train, y_test = train_test_split(X, y, train_size=0.75)"
   ]
  },
  {
   "cell_type": "code",
   "execution_count": 8,
   "metadata": {
    "collapsed": false
   },
   "outputs": [],
   "source": [
    "from keras.models import Sequential\n",
    "from keras.layers import Dense\n",
    "from keras.layers import Dropout\n",
    "from keras.layers import Flatten\n",
    "from keras.constraints import maxnorm\n",
    "from keras.optimizers import SGD\n",
    "from keras.layers.convolutional import Conv2D\n",
    "from keras.layers.convolutional import MaxPooling2D\n",
    "from keras.utils import np_utils\n",
    "from keras import backend as K"
   ]
  },
  {
   "cell_type": "code",
   "execution_count": 30,
   "metadata": {
    "collapsed": false
   },
   "outputs": [],
   "source": [
    "# Model creation by machinelearningmastery\n",
    "num_classes=2\n",
    "model = Sequential()\n",
    "model.add(Conv2D(32, (3, 3), input_shape=(100,140,3), activation='relu', padding='same'))\n",
    "model.add(Dropout(0.2))\n",
    "model.add(Conv2D(32, (3, 3), activation='relu', padding='same', kernel_constraint=maxnorm(3)))\n",
    "model.add(MaxPooling2D(pool_size=(2,2)))\n",
    "model.add(Flatten())\n",
    "model.add(Dense(512, activation='relu', kernel_constraint=maxnorm(3)))\n",
    "model.add(Dropout(0.5))\n",
    "model.add(Dense(num_classes, activation='softmax'))"
   ]
  },
  {
   "cell_type": "code",
   "execution_count": 31,
   "metadata": {
    "collapsed": false
   },
   "outputs": [],
   "source": [
    "# Compile the model\n",
    "epochs = 25\n",
    "lrate = 0.01\n",
    "decay = lrate/epochs\n",
    "sgd = SGD(lr=lrate, momentum=0.9, decay=decay, nesterov=False)\n",
    "model.compile(loss='sparse_categorical_crossentropy', optimizer=sgd, metrics=['accuracy'])\n",
    "# print(model.summary())"
   ]
  },
  {
   "cell_type": "markdown",
   "metadata": {},
   "source": [
    "Used https://github.com/fchollet/keras/issues/3109 to figure out that sparse_categorial_crossentropy was the loss function needed."
   ]
  },
  {
   "cell_type": "code",
   "execution_count": 26,
   "metadata": {
    "collapsed": false
   },
   "outputs": [
    {
     "name": "stdout",
     "output_type": "stream",
     "text": [
      "Train on 1335 samples, validate on 445 samples\n",
      "Epoch 1/25\n",
      "1335/1335 [==============================] - 103s - loss: 7.8471 - acc: 0.5019 - val_loss: 8.5118 - val_acc: 0.4719\n",
      "Epoch 2/25\n",
      "1335/1335 [==============================] - 111s - loss: 7.9564 - acc: 0.5064 - val_loss: 8.5118 - val_acc: 0.4719\n",
      "Epoch 3/25\n",
      "1335/1335 [==============================] - 116s - loss: 7.9564 - acc: 0.5064 - val_loss: 8.5118 - val_acc: 0.4719\n",
      "Epoch 4/25\n",
      "1335/1335 [==============================] - 109s - loss: 7.9564 - acc: 0.5064 - val_loss: 8.5118 - val_acc: 0.4719\n",
      "Epoch 5/25\n",
      "1335/1335 [==============================] - 107s - loss: 7.9564 - acc: 0.5064 - val_loss: 8.5118 - val_acc: 0.4719\n",
      "Epoch 6/25\n",
      "1335/1335 [==============================] - 110s - loss: 7.9564 - acc: 0.5064 - val_loss: 8.5118 - val_acc: 0.4719\n",
      "Epoch 7/25\n",
      "1335/1335 [==============================] - 111s - loss: 7.9564 - acc: 0.5064 - val_loss: 8.5118 - val_acc: 0.4719\n",
      "Epoch 8/25\n",
      "1335/1335 [==============================] - 113s - loss: 7.9564 - acc: 0.5064 - val_loss: 8.5118 - val_acc: 0.4719\n",
      "Epoch 9/25\n",
      "1335/1335 [==============================] - 108s - loss: 7.9564 - acc: 0.5064 - val_loss: 8.5118 - val_acc: 0.4719\n",
      "Epoch 10/25\n",
      "1335/1335 [==============================] - 102s - loss: 7.9564 - acc: 0.5064 - val_loss: 8.5118 - val_acc: 0.4719\n",
      "Epoch 11/25\n",
      "1335/1335 [==============================] - 103s - loss: 7.9564 - acc: 0.5064 - val_loss: 8.5118 - val_acc: 0.4719\n",
      "Epoch 12/25\n",
      "1335/1335 [==============================] - 102s - loss: 7.9564 - acc: 0.5064 - val_loss: 8.5118 - val_acc: 0.4719\n",
      "Epoch 13/25\n",
      "1335/1335 [==============================] - 101s - loss: 7.9564 - acc: 0.5064 - val_loss: 8.5118 - val_acc: 0.4719\n",
      "Epoch 14/25\n",
      "1335/1335 [==============================] - 102s - loss: 7.9564 - acc: 0.5064 - val_loss: 8.5118 - val_acc: 0.4719\n",
      "Epoch 15/25\n",
      "1335/1335 [==============================] - 102s - loss: 7.9564 - acc: 0.5064 - val_loss: 8.5118 - val_acc: 0.4719\n",
      "Epoch 16/25\n",
      "1335/1335 [==============================] - 102s - loss: 7.9564 - acc: 0.5064 - val_loss: 8.5118 - val_acc: 0.4719\n",
      "Epoch 17/25\n",
      "1335/1335 [==============================] - 102s - loss: 7.9564 - acc: 0.5064 - val_loss: 8.5118 - val_acc: 0.4719\n",
      "Epoch 18/25\n",
      "1335/1335 [==============================] - 102s - loss: 7.9564 - acc: 0.5064 - val_loss: 8.5118 - val_acc: 0.4719\n",
      "Epoch 19/25\n",
      "1335/1335 [==============================] - 101s - loss: 7.9564 - acc: 0.5064 - val_loss: 8.5118 - val_acc: 0.4719\n",
      "Epoch 20/25\n",
      "1335/1335 [==============================] - 102s - loss: 7.9564 - acc: 0.5064 - val_loss: 8.5118 - val_acc: 0.4719\n",
      "Epoch 21/25\n",
      "1335/1335 [==============================] - 101s - loss: 7.9564 - acc: 0.5064 - val_loss: 8.5118 - val_acc: 0.4719\n",
      "Epoch 22/25\n",
      "1335/1335 [==============================] - 104s - loss: 7.9564 - acc: 0.5064 - val_loss: 8.5118 - val_acc: 0.4719\n",
      "Epoch 23/25\n",
      "1335/1335 [==============================] - 112s - loss: 7.9564 - acc: 0.5064 - val_loss: 8.5118 - val_acc: 0.4719\n",
      "Epoch 24/25\n",
      "1335/1335 [==============================] - 104s - loss: 7.9564 - acc: 0.5064 - val_loss: 8.5118 - val_acc: 0.4719\n",
      "Epoch 25/25\n",
      "1335/1335 [==============================] - 102s - loss: 7.9564 - acc: 0.5064 - val_loss: 8.5118 - val_acc: 0.4719\n",
      "Accuracy: 47.19%\n"
     ]
    }
   ],
   "source": [
    "# Fit the model\n",
    "model.fit(X_train, y_train, validation_data=(X_test, y_test), epochs=epochs, batch_size=32)\n",
    "# Final evaluation of the model\n",
    "scores = model.evaluate(X_test, y_test, verbose=0)\n",
    "print(\"Accuracy: %.2f%%\" % (scores[1]*100))"
   ]
  },
  {
   "cell_type": "code",
   "execution_count": 27,
   "metadata": {
    "collapsed": false
   },
   "outputs": [
    {
     "name": "stdout",
     "output_type": "stream",
     "text": [
      "445/445 [==============================] - 6s     \n"
     ]
    }
   ],
   "source": [
    "y_pred = model.predict_classes(X_test)"
   ]
  },
  {
   "cell_type": "code",
   "execution_count": 29,
   "metadata": {
    "collapsed": false
   },
   "outputs": [
    {
     "data": {
      "text/plain": [
       "array([0, 0, 0, 0, 0, 0, 0, 0, 0, 0, 0, 0, 0, 0, 0, 0, 0, 0, 0, 0, 0, 0, 0,\n",
       "       0, 0, 0, 0, 0, 0, 0, 0, 0, 0, 0, 0, 0, 0, 0, 0, 0, 0, 0, 0, 0, 0, 0,\n",
       "       0, 0, 0, 0, 0, 0, 0, 0, 0, 0, 0, 0, 0, 0, 0, 0, 0, 0, 0, 0, 0, 0, 0,\n",
       "       0, 0, 0, 0, 0, 0, 0, 0, 0, 0, 0, 0, 0, 0, 0, 0, 0, 0, 0, 0, 0, 0, 0,\n",
       "       0, 0, 0, 0, 0, 0, 0, 0, 0, 0, 0, 0, 0, 0, 0, 0, 0, 0, 0, 0, 0, 0, 0,\n",
       "       0, 0, 0, 0, 0, 0, 0, 0, 0, 0, 0, 0, 0, 0, 0, 0, 0, 0, 0, 0, 0, 0, 0,\n",
       "       0, 0, 0, 0, 0, 0, 0, 0, 0, 0, 0, 0, 0, 0, 0, 0, 0, 0, 0, 0, 0, 0, 0,\n",
       "       0, 0, 0, 0, 0, 0, 0, 0, 0, 0, 0, 0, 0, 0, 0, 0, 0, 0, 0, 0, 0, 0, 0,\n",
       "       0, 0, 0, 0, 0, 0, 0, 0, 0, 0, 0, 0, 0, 0, 0, 0, 0, 0, 0, 0, 0, 0, 0,\n",
       "       0, 0, 0, 0, 0, 0, 0, 0, 0, 0, 0, 0, 0, 0, 0, 0, 0, 0, 0, 0, 0, 0, 0,\n",
       "       0, 0, 0, 0, 0, 0, 0, 0, 0, 0, 0, 0, 0, 0, 0, 0, 0, 0, 0, 0, 0, 0, 0,\n",
       "       0, 0, 0, 0, 0, 0, 0, 0, 0, 0, 0, 0, 0, 0, 0, 0, 0, 0, 0, 0, 0, 0, 0,\n",
       "       0, 0, 0, 0, 0, 0, 0, 0, 0, 0, 0, 0, 0, 0, 0, 0, 0, 0, 0, 0, 0, 0, 0,\n",
       "       0, 0, 0, 0, 0, 0, 0, 0, 0, 0, 0, 0, 0, 0, 0, 0, 0, 0, 0, 0, 0, 0, 0,\n",
       "       0, 0, 0, 0, 0, 0, 0, 0, 0, 0, 0, 0, 0, 0, 0, 0, 0, 0, 0, 0, 0, 0, 0,\n",
       "       0, 0, 0, 0, 0, 0, 0, 0, 0, 0, 0, 0, 0, 0, 0, 0, 0, 0, 0, 0, 0, 0, 0,\n",
       "       0, 0, 0, 0, 0, 0, 0, 0, 0, 0, 0, 0, 0, 0, 0, 0, 0, 0, 0, 0, 0, 0, 0,\n",
       "       0, 0, 0, 0, 0, 0, 0, 0, 0, 0, 0, 0, 0, 0, 0, 0, 0, 0, 0, 0, 0, 0, 0,\n",
       "       0, 0, 0, 0, 0, 0, 0, 0, 0, 0, 0, 0, 0, 0, 0, 0, 0, 0, 0, 0, 0, 0, 0,\n",
       "       0, 0, 0, 0, 0, 0, 0, 0])"
      ]
     },
     "execution_count": 29,
     "metadata": {},
     "output_type": "execute_result"
    }
   ],
   "source": [
    "y_pred.sum()"
   ]
  }
 ],
 "metadata": {
  "anaconda-cloud": {},
  "kernelspec": {
   "display_name": "Python 3",
   "language": "python",
   "name": "python3"
  },
  "language_info": {
   "codemirror_mode": {
    "name": "ipython",
    "version": 3
   },
   "file_extension": ".py",
   "mimetype": "text/x-python",
   "name": "python",
   "nbconvert_exporter": "python",
   "pygments_lexer": "ipython3",
   "version": "3.5.2"
  }
 },
 "nbformat": 4,
 "nbformat_minor": 0
}
