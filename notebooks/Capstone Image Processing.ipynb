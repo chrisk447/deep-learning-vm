{
 "cells": [
  {
   "cell_type": "markdown",
   "metadata": {},
   "source": [
    "## Image Processing Using Keras and Tensorflow - Chris Kim\n",
    "\n",
    "This notebook was adapted from github user [nirmalyaghosh](https://github.com/nirmalyaghosh/deep-learning-vm), and user [fchollet](https://github.com/fchollet/keras/issues/3109). Lastly, most information was adapted from a great website called [Machine Learning Mastery](http://machinelearningmastery.com/).\n",
    "\n",
    "The code below is my first attempt to use image processing using the tools made available in Python, namely `keras` and `TensorFlow` as the backend. This exploration was inspired by [doyleax](https://doyleax.github.io/Portfolio/capstone.html) and her Capstone project. Side profile images of 1780 pairs of shoes are transformed to be evaluated in a neural network to try to predict whether a shoe is classified as rare or not (determined by a metric composed of retail price and average deadstock price).\n",
    "\n",
    "All images are taken from [StockX](www.stockx.com)."
   ]
  },
  {
   "cell_type": "code",
   "execution_count": 6,
   "metadata": {
    "collapsed": true
   },
   "outputs": [],
   "source": [
    "import numpy as np\n",
    "import pickle\n",
    "import matplotlib.pyplot as plt\n",
    "\n",
    "np.random.seed(7)\n",
    "%matplotlib inline"
   ]
  },
  {
   "cell_type": "code",
   "execution_count": 7,
   "metadata": {},
   "outputs": [
    {
     "name": "stdout",
     "output_type": "stream",
     "text": [
      "(1877, 200, 280, 3)\n",
      "(1877,)\n"
     ]
    }
   ],
   "source": [
    "with open('shoenumbers.pickle', 'rb') as handle:\n",
    "    X = pickle.load(handle, encoding='bytes')\n",
    "with open('targetvars.pickle', 'rb') as handle:\n",
    "    y = pickle.load(handle, encoding='bytes')\n",
    "\n",
    "print(np.array(X).shape)\n",
    "print(np.array(y).shape)"
   ]
  },
  {
   "cell_type": "code",
   "execution_count": 8,
   "metadata": {},
   "outputs": [
    {
     "name": "stdout",
     "output_type": "stream",
     "text": [
      "0.503462972829\n"
     ]
    }
   ],
   "source": [
    "baseline = y.mean()\n",
    "print(baseline)"
   ]
  },
  {
   "cell_type": "code",
   "execution_count": 9,
   "metadata": {},
   "outputs": [
    {
     "data": {
      "text/plain": [
       "(1877, 100, 140, 3)"
      ]
     },
     "execution_count": 9,
     "metadata": {},
     "output_type": "execute_result"
    }
   ],
   "source": [
    "# Change size of images so it's not so huge when we pass it through keras\n",
    "import cv2\n",
    "new_X = []\n",
    "for row in range(len(X)):\n",
    "    new_X.append(cv2.resize(X[row], (140,100)))\n",
    "np.array(new_X).shape"
   ]
  },
  {
   "cell_type": "code",
   "execution_count": 10,
   "metadata": {
    "collapsed": true
   },
   "outputs": [],
   "source": [
    "# Prepare data for training and testing\n",
    "X = np.array(new_X)\n",
    "X = X.astype('float32')\n",
    "X /= 255.0\n",
    "y = np.array(y)"
   ]
  },
  {
   "cell_type": "code",
   "execution_count": 11,
   "metadata": {
    "collapsed": true
   },
   "outputs": [],
   "source": [
    "from sklearn.model_selection import train_test_split\n",
    "X_train, X_test, y_train, y_test = train_test_split(X, y, train_size=0.75)"
   ]
  },
  {
   "cell_type": "code",
   "execution_count": 5,
   "metadata": {},
   "outputs": [
    {
     "name": "stderr",
     "output_type": "stream",
     "text": [
      "Using TensorFlow backend.\n"
     ]
    }
   ],
   "source": [
    "from keras.models import Sequential\n",
    "from keras.layers import Dense\n",
    "from keras.layers import Dropout\n",
    "from keras.layers import Flatten\n",
    "from keras.constraints import maxnorm\n",
    "from keras.optimizers import SGD\n",
    "from keras.layers.convolutional import Conv2D\n",
    "from keras.layers.convolutional import MaxPooling2D\n",
    "from keras.utils import np_utils\n",
    "from keras import backend as K"
   ]
  },
  {
   "cell_type": "code",
   "execution_count": 12,
   "metadata": {
    "collapsed": true
   },
   "outputs": [],
   "source": [
    "# Model creation by machinelearningmastery\n",
    "num_classes=2\n",
    "model = Sequential()\n",
    "model.add(Conv2D(32, (3, 3), input_shape=(100,140,3), activation='relu', padding='same'))\n",
    "model.add(Dropout(0.2))\n",
    "model.add(Conv2D(32, (3, 3), activation='relu', padding='same', kernel_constraint=maxnorm(3)))\n",
    "model.add(MaxPooling2D(pool_size=(2,2)))\n",
    "model.add(Flatten())\n",
    "model.add(Dense(512, activation='relu', kernel_constraint=maxnorm(3)))\n",
    "model.add(Dropout(0.5))\n",
    "model.add(Dense(num_classes, activation='softmax'))"
   ]
  },
  {
   "cell_type": "code",
   "execution_count": 15,
   "metadata": {
    "collapsed": true
   },
   "outputs": [],
   "source": [
    "# Compile the model\n",
    "epochs = 50\n",
    "lrate = 0.01\n",
    "decay = lrate/epochs\n",
    "sgd = SGD(lr=lrate, momentum=0.9, decay=decay, nesterov=False)\n",
    "model.compile(loss='sparse_categorical_crossentropy', optimizer=sgd, metrics=['accuracy'])\n",
    "# print(model.summary())"
   ]
  },
  {
   "cell_type": "code",
   "execution_count": 16,
   "metadata": {},
   "outputs": [
    {
     "name": "stdout",
     "output_type": "stream",
     "text": [
      "Train on 1407 samples, validate on 470 samples\n",
      "Epoch 1/50\n",
      "1407/1407 [==============================] - 150s - loss: 0.7484 - acc: 0.5167 - val_loss: 0.6984 - val_acc: 0.4468\n",
      "Epoch 2/50\n",
      "1407/1407 [==============================] - 157s - loss: 0.6928 - acc: 0.5238 - val_loss: 0.7027 - val_acc: 0.4468\n",
      "Epoch 3/50\n",
      "1407/1407 [==============================] - 155s - loss: 0.6893 - acc: 0.5330 - val_loss: 0.6996 - val_acc: 0.4702\n",
      "Epoch 4/50\n",
      "1407/1407 [==============================] - 157s - loss: 0.6784 - acc: 0.5714 - val_loss: 0.7001 - val_acc: 0.4957\n",
      "Epoch 5/50\n",
      "1407/1407 [==============================] - 154s - loss: 0.6657 - acc: 0.5920 - val_loss: 0.6867 - val_acc: 0.5340\n",
      "Epoch 6/50\n",
      "1407/1407 [==============================] - 161s - loss: 0.6324 - acc: 0.6603 - val_loss: 0.6788 - val_acc: 0.5766\n",
      "Epoch 7/50\n",
      "1407/1407 [==============================] - 148s - loss: 0.6070 - acc: 0.6681 - val_loss: 0.6849 - val_acc: 0.5809\n",
      "Epoch 8/50\n",
      "1407/1407 [==============================] - 139s - loss: 0.5914 - acc: 0.6809 - val_loss: 0.6640 - val_acc: 0.5915\n",
      "Epoch 9/50\n",
      "1407/1407 [==============================] - 139s - loss: 0.5533 - acc: 0.7299 - val_loss: 0.6560 - val_acc: 0.6043\n",
      "Epoch 10/50\n",
      "1407/1407 [==============================] - 138s - loss: 0.5250 - acc: 0.7356 - val_loss: 0.6667 - val_acc: 0.6213\n",
      "Epoch 11/50\n",
      "1407/1407 [==============================] - 139s - loss: 0.5033 - acc: 0.7697 - val_loss: 0.6357 - val_acc: 0.6660\n",
      "Epoch 12/50\n",
      "1407/1407 [==============================] - 140s - loss: 0.4597 - acc: 0.7747 - val_loss: 0.6542 - val_acc: 0.6638\n",
      "Epoch 13/50\n",
      "1407/1407 [==============================] - 140s - loss: 0.4362 - acc: 0.8053 - val_loss: 0.6529 - val_acc: 0.6723\n",
      "Epoch 14/50\n",
      "1407/1407 [==============================] - 139s - loss: 0.4369 - acc: 0.8181 - val_loss: 0.6704 - val_acc: 0.6723\n",
      "Epoch 15/50\n",
      "1407/1407 [==============================] - 139s - loss: 0.4115 - acc: 0.8159 - val_loss: 0.7320 - val_acc: 0.6511\n",
      "Epoch 16/50\n",
      "1407/1407 [==============================] - 146s - loss: 0.3878 - acc: 0.8316 - val_loss: 0.7261 - val_acc: 0.6362\n",
      "Epoch 17/50\n",
      "1407/1407 [==============================] - 143s - loss: 0.3600 - acc: 0.8422 - val_loss: 0.7062 - val_acc: 0.6532\n",
      "Epoch 18/50\n",
      "1407/1407 [==============================] - 137s - loss: 0.3576 - acc: 0.8493 - val_loss: 0.7012 - val_acc: 0.6809\n",
      "Epoch 19/50\n",
      "1407/1407 [==============================] - 136s - loss: 0.3632 - acc: 0.8372 - val_loss: 0.6655 - val_acc: 0.6574\n",
      "Epoch 20/50\n",
      "1407/1407 [==============================] - 135s - loss: 0.3435 - acc: 0.8628 - val_loss: 0.7035 - val_acc: 0.6787\n",
      "Epoch 21/50\n",
      "1407/1407 [==============================] - 136s - loss: 0.3295 - acc: 0.8557 - val_loss: 0.7529 - val_acc: 0.6787\n",
      "Epoch 22/50\n",
      "1407/1407 [==============================] - 136s - loss: 0.3147 - acc: 0.8735 - val_loss: 0.7125 - val_acc: 0.6809\n",
      "Epoch 23/50\n",
      "1407/1407 [==============================] - 136s - loss: 0.3124 - acc: 0.8657 - val_loss: 0.6430 - val_acc: 0.6979\n",
      "Epoch 24/50\n",
      "1407/1407 [==============================] - 136s - loss: 0.3045 - acc: 0.8643 - val_loss: 0.6636 - val_acc: 0.6915\n",
      "Epoch 25/50\n",
      "1407/1407 [==============================] - 136s - loss: 0.2858 - acc: 0.8778 - val_loss: 0.6762 - val_acc: 0.6787\n",
      "Epoch 26/50\n",
      "1407/1407 [==============================] - 138s - loss: 0.2907 - acc: 0.8877 - val_loss: 0.6996 - val_acc: 0.6660\n",
      "Epoch 27/50\n",
      "1407/1407 [==============================] - 135s - loss: 0.2799 - acc: 0.8820 - val_loss: 0.6783 - val_acc: 0.6936\n",
      "Epoch 28/50\n",
      "1407/1407 [==============================] - 135s - loss: 0.2660 - acc: 0.8842 - val_loss: 0.6823 - val_acc: 0.6915\n",
      "Epoch 29/50\n",
      "1407/1407 [==============================] - 135s - loss: 0.2789 - acc: 0.8820 - val_loss: 0.6699 - val_acc: 0.6936\n",
      "Epoch 30/50\n",
      "1407/1407 [==============================] - 135s - loss: 0.2658 - acc: 0.8877 - val_loss: 0.7350 - val_acc: 0.6766\n",
      "Epoch 31/50\n",
      "1407/1407 [==============================] - 135s - loss: 0.2541 - acc: 0.8870 - val_loss: 0.7184 - val_acc: 0.7064\n",
      "Epoch 32/50\n",
      "1407/1407 [==============================] - 135s - loss: 0.2703 - acc: 0.8770 - val_loss: 0.6658 - val_acc: 0.7043\n",
      "Epoch 33/50\n",
      "1407/1407 [==============================] - 134s - loss: 0.2491 - acc: 0.8891 - val_loss: 0.6793 - val_acc: 0.7149\n",
      "Epoch 34/50\n",
      "1407/1407 [==============================] - 134s - loss: 0.2503 - acc: 0.8870 - val_loss: 0.7353 - val_acc: 0.6872\n",
      "Epoch 35/50\n",
      "1407/1407 [==============================] - 134s - loss: 0.2372 - acc: 0.8870 - val_loss: 0.7397 - val_acc: 0.6915\n",
      "Epoch 36/50\n",
      "1407/1407 [==============================] - 147s - loss: 0.2535 - acc: 0.8799 - val_loss: 0.6652 - val_acc: 0.7085\n",
      "Epoch 37/50\n",
      "1407/1407 [==============================] - 148s - loss: 0.2601 - acc: 0.8863 - val_loss: 0.6775 - val_acc: 0.6915\n",
      "Epoch 38/50\n",
      "1407/1407 [==============================] - 148s - loss: 0.2481 - acc: 0.8813 - val_loss: 0.6689 - val_acc: 0.6787\n",
      "Epoch 39/50\n",
      "1407/1407 [==============================] - 148s - loss: 0.2494 - acc: 0.8820 - val_loss: 0.6579 - val_acc: 0.6894\n",
      "Epoch 40/50\n",
      "1407/1407 [==============================] - 145s - loss: 0.2381 - acc: 0.8913 - val_loss: 0.6796 - val_acc: 0.6851\n",
      "Epoch 41/50\n",
      "1407/1407 [==============================] - 146s - loss: 0.2316 - acc: 0.8891 - val_loss: 0.6704 - val_acc: 0.6915\n",
      "Epoch 42/50\n",
      "1407/1407 [==============================] - 147s - loss: 0.2229 - acc: 0.8905 - val_loss: 0.7172 - val_acc: 0.6894\n",
      "Epoch 43/50\n",
      "1407/1407 [==============================] - 150s - loss: 0.2394 - acc: 0.8842 - val_loss: 0.6696 - val_acc: 0.6894\n",
      "Epoch 44/50\n",
      "1407/1407 [==============================] - 142s - loss: 0.2277 - acc: 0.8842 - val_loss: 0.7041 - val_acc: 0.6745\n",
      "Epoch 45/50\n",
      "1407/1407 [==============================] - 155s - loss: 0.2276 - acc: 0.8905 - val_loss: 0.7032 - val_acc: 0.6851\n",
      "Epoch 46/50\n",
      "1407/1407 [==============================] - 154s - loss: 0.2342 - acc: 0.8842 - val_loss: 0.7224 - val_acc: 0.7000\n",
      "Epoch 47/50\n",
      "1407/1407 [==============================] - 138s - loss: 0.2156 - acc: 0.8948 - val_loss: 0.7030 - val_acc: 0.6809\n",
      "Epoch 48/50\n",
      "1407/1407 [==============================] - 140s - loss: 0.2232 - acc: 0.8898 - val_loss: 0.7519 - val_acc: 0.6894\n",
      "Epoch 49/50\n",
      "1407/1407 [==============================] - 146s - loss: 0.2285 - acc: 0.8955 - val_loss: 0.6406 - val_acc: 0.7085\n",
      "Epoch 50/50\n",
      "1407/1407 [==============================] - 152s - loss: 0.2086 - acc: 0.8927 - val_loss: 0.7510 - val_acc: 0.7085\n",
      "Accuracy: 70.85%\n"
     ]
    }
   ],
   "source": [
    "# Fit the model\n",
    "model.fit(X_train, y_train, validation_data=(X_test, y_test), epochs=epochs, batch_size=32)\n",
    "# Final evaluation of the model\n",
    "scores = model.evaluate(X_test, y_test, verbose=0)\n",
    "print(\"Accuracy: %.2f%%\" % (scores[1]*100))"
   ]
  },
  {
   "cell_type": "code",
   "execution_count": 17,
   "metadata": {},
   "outputs": [
    {
     "name": "stdout",
     "output_type": "stream",
     "text": [
      "470/470 [==============================] - 11s    \n"
     ]
    }
   ],
   "source": [
    "y_pred = model.predict_classes(X_test)"
   ]
  },
  {
   "cell_type": "code",
   "execution_count": 18,
   "metadata": {},
   "outputs": [
    {
     "data": {
      "text/plain": [
       "array([0, 0, 1, 1, 0, 0, 1, 0, 1, 1, 1, 0, 1, 1, 1, 1, 1, 1, 0, 0, 0, 0, 0,\n",
       "       1, 0, 0, 0, 1, 1, 1, 0, 1, 0, 1, 1, 1, 0, 0, 1, 0, 1, 1, 0, 1, 1, 1,\n",
       "       0, 1, 1, 1, 0, 0, 1, 0, 0, 1, 0, 0, 0, 0, 1, 1, 0, 1, 1, 0, 1, 1, 1,\n",
       "       0, 1, 0, 0, 1, 1, 0, 0, 1, 1, 0, 0, 1, 1, 0, 1, 1, 1, 1, 1, 1, 0, 0,\n",
       "       1, 0, 1, 1, 0, 1, 0, 1, 0, 1, 0, 1, 0, 1, 0, 0, 0, 1, 0, 0, 0, 0, 1,\n",
       "       0, 0, 1, 0, 0, 0, 0, 1, 1, 0, 0, 0, 0, 1, 0, 1, 0, 0, 0, 1, 0, 1, 1,\n",
       "       0, 0, 0, 0, 1, 0, 0, 1, 1, 0, 0, 1, 0, 0, 0, 1, 1, 1, 0, 1, 0, 1, 0,\n",
       "       0, 1, 1, 1, 0, 1, 1, 1, 1, 0, 1, 0, 1, 0, 1, 0, 1, 0, 1, 1, 0, 0, 0,\n",
       "       1, 1, 1, 1, 0, 0, 0, 0, 1, 0, 0, 1, 0, 0, 1, 1, 0, 0, 1, 1, 1, 0, 0,\n",
       "       1, 0, 1, 1, 0, 1, 1, 0, 1, 0, 0, 0, 1, 0, 0, 0, 0, 0, 0, 1, 0, 0, 1,\n",
       "       0, 1, 0, 1, 0, 0, 0, 1, 0, 1, 1, 0, 0, 0, 1, 0, 1, 0, 1, 0, 0, 1, 0,\n",
       "       0, 0, 1, 1, 1, 0, 0, 0, 1, 0, 0, 1, 1, 0, 1, 0, 1, 0, 0, 1, 1, 0, 0,\n",
       "       0, 1, 0, 0, 1, 0, 1, 0, 1, 1, 0, 0, 1, 1, 0, 0, 1, 0, 0, 0, 1, 0, 1,\n",
       "       1, 1, 1, 1, 1, 1, 1, 0, 1, 1, 1, 1, 1, 0, 0, 1, 0, 1, 1, 0, 0, 1, 0,\n",
       "       0, 0, 0, 1, 1, 1, 1, 1, 0, 1, 0, 0, 0, 1, 0, 1, 0, 1, 1, 1, 1, 0, 0,\n",
       "       1, 1, 1, 1, 1, 0, 1, 0, 0, 0, 1, 0, 0, 1, 1, 0, 0, 1, 0, 1, 0, 1, 0,\n",
       "       1, 0, 0, 1, 1, 1, 0, 1, 1, 1, 0, 0, 1, 1, 1, 0, 0, 0, 1, 1, 1, 0, 1,\n",
       "       0, 0, 0, 1, 1, 0, 1, 0, 0, 0, 1, 1, 0, 1, 0, 0, 0, 1, 1, 0, 1, 1, 0,\n",
       "       0, 0, 0, 1, 0, 0, 0, 0, 0, 0, 1, 1, 1, 1, 0, 1, 0, 0, 1, 1, 1, 0, 0,\n",
       "       0, 0, 1, 0, 0, 0, 0, 0, 0, 1, 1, 0, 0, 1, 0, 1, 0, 0, 1, 1, 0, 0, 1,\n",
       "       0, 0, 0, 0, 0, 1, 0, 0, 1, 0], dtype=int64)"
      ]
     },
     "execution_count": 18,
     "metadata": {},
     "output_type": "execute_result"
    }
   ],
   "source": [
    "y_pred"
   ]
  },
  {
   "cell_type": "markdown",
   "metadata": {},
   "source": [
    "## Conclusion\n",
    "Neural Networking increased the accuracy of my model of baseline: 50% by 20.85%. If I wanted to increase the score, I think the following factors could help increase the accuracy.\n",
    "- Image transformations\n",
    "- More enough epochs\n",
    "- Alter parameters/layers used\n",
    "- More data"
   ]
  },
  {
   "cell_type": "code",
   "execution_count": null,
   "metadata": {
    "collapsed": true
   },
   "outputs": [],
   "source": []
  }
 ],
 "metadata": {
  "anaconda-cloud": {},
  "kernelspec": {
   "display_name": "Python 3",
   "language": "python",
   "name": "python3"
  },
  "language_info": {
   "codemirror_mode": {
    "name": "ipython",
    "version": 3
   },
   "file_extension": ".py",
   "mimetype": "text/x-python",
   "name": "python",
   "nbconvert_exporter": "python",
   "pygments_lexer": "ipython3",
   "version": "3.6.1"
  }
 },
 "nbformat": 4,
 "nbformat_minor": 1
}
